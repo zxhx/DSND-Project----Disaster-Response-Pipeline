{
 "cells": [
  {
   "cell_type": "markdown",
   "metadata": {},
   "source": [
    "# ML Pipeline \n",
    "按照如下的指导要求，搭建你的机器学习管道。\n",
    "### 导入与加载\n",
    "- 导入 Python 库\n",
    "- 使用 [`read_sql_table`](https://pandas.pydata.org/pandas-docs/stable/generated/pandas.read_sql_table.html) 从数据库中加载数据集\n",
    "- 定义特征变量X 和目标变量 Y"
   ]
  },
  {
   "cell_type": "code",
   "execution_count": 1,
   "metadata": {
    "ExecuteTime": {
     "end_time": "2020-08-02T15:23:13.364201Z",
     "start_time": "2020-08-02T15:22:57.340285Z"
    }
   },
   "outputs": [
    {
     "name": "stderr",
     "output_type": "stream",
     "text": [
      "[nltk_data] Downloading package punkt to\n",
      "[nltk_data]     C:\\Users\\tendays\\AppData\\Roaming\\nltk_data...\n",
      "[nltk_data]   Package punkt is already up-to-date!\n",
      "[nltk_data] Downloading package wordnet to\n",
      "[nltk_data]     C:\\Users\\tendays\\AppData\\Roaming\\nltk_data...\n",
      "[nltk_data]   Package wordnet is already up-to-date!\n",
      "[nltk_data] Downloading package stopwords to\n",
      "[nltk_data]     C:\\Users\\tendays\\AppData\\Roaming\\nltk_data...\n",
      "[nltk_data]   Package stopwords is already up-to-date!\n"
     ]
    },
    {
     "data": {
      "text/plain": [
       "True"
      ]
     },
     "execution_count": 1,
     "metadata": {},
     "output_type": "execute_result"
    }
   ],
   "source": [
    "# import libraries\n",
    "import pandas as pd\n",
    "import numpy as np\n",
    "from sqlalchemy import create_engine\n",
    "import sqlite3\n",
    "import re\n",
    "import nltk\n",
    "from nltk.corpus import stopwords\n",
    "from nltk.stem.wordnet import WordNetLemmatizer\n",
    "from nltk.tokenize import word_tokenize\n",
    "nltk.download('punkt')\n",
    "nltk.download('wordnet')\n",
    "nltk.download('stopwords')"
   ]
  },
  {
   "cell_type": "code",
   "execution_count": 2,
   "metadata": {
    "ExecuteTime": {
     "end_time": "2020-08-02T15:23:15.190306Z",
     "start_time": "2020-08-02T15:23:14.376259Z"
    }
   },
   "outputs": [],
   "source": [
    "# load data from database\n",
    "engine = create_engine('sqlite:///DisasterData.db')\n",
    "df = pd.read_sql_table(table_name='DisasterData',con=engine,index_col='id')\n",
    "X = df.message.values\n",
    "y = df.iloc[:,4:].values"
   ]
  },
  {
   "cell_type": "markdown",
   "metadata": {},
   "source": [
    "### 编写分词函数，开始处理文本"
   ]
  },
  {
   "cell_type": "code",
   "execution_count": 3,
   "metadata": {
    "ExecuteTime": {
     "end_time": "2020-08-02T15:23:16.971408Z",
     "start_time": "2020-08-02T15:23:16.962407Z"
    }
   },
   "outputs": [],
   "source": [
    "def tokenize(text):\n",
    "    text = re.sub(r\"[^a-zA-Z0-9]\", \" \", text.lower())\n",
    "    words = word_tokenize(text)    \n",
    "    stop_words = stopwords.words(\"english\")        \n",
    "    tokens = [WordNetLemmatizer().lemmatize(word) for word in words if word not in stop_words]    \n",
    "    return tokens\n"
   ]
  },
  {
   "cell_type": "markdown",
   "metadata": {},
   "source": [
    "### 创建机器学习管道 \n",
    "这个机器学习管道应该接收 `message` 列作输入，输出分类结果，分类结果属于该数据集中的 36 个类。你会发现 [MultiOutputClassifier](http://scikit-learn.org/stable/modules/generated/sklearn.multioutput.MultiOutputClassifier.html) 在预测多目标变量时很有用。"
   ]
  },
  {
   "cell_type": "code",
   "execution_count": 8,
   "metadata": {
    "ExecuteTime": {
     "end_time": "2020-08-02T15:25:20.263460Z",
     "start_time": "2020-08-02T15:25:20.258459Z"
    }
   },
   "outputs": [],
   "source": [
    "from sklearn.pipeline import Pipeline, FeatureUnion\n",
    "from sklearn.multioutput import MultiOutputClassifier\n",
    "from sklearn.feature_extraction.text import CountVectorizer, TfidfTransformer\n",
    "from sklearn.base import BaseEstimator, TransformerMixin\n",
    "from sklearn.tree import DecisionTreeClassifier\n",
    "\n",
    "pipeline = Pipeline([\n",
    "        ('vectorizer', CountVectorizer(tokenizer=tokenize)),\n",
    "        ('transformer', TfidfTransformer()),\n",
    "        ('clf', MultiOutputClassifier( DecisionTreeClassifier(random_state =10), n_jobs = 1))\n",
    "         ])"
   ]
  },
  {
   "cell_type": "markdown",
   "metadata": {},
   "source": [
    "### 训练管道\n",
    "- 将数据分割成训练和测试集\n",
    "- 训练管道"
   ]
  },
  {
   "cell_type": "code",
   "execution_count": 13,
   "metadata": {
    "ExecuteTime": {
     "end_time": "2020-08-02T15:34:06.407553Z",
     "start_time": "2020-08-02T15:34:06.363551Z"
    }
   },
   "outputs": [
    {
     "data": {
      "text/plain": [
       "((13193,), (13193, 35))"
      ]
     },
     "execution_count": 13,
     "metadata": {},
     "output_type": "execute_result"
    }
   ],
   "source": [
    "from sklearn.model_selection import train_test_split\n",
    "\n",
    "X_train, X_test, y_train, y_test = train_test_split(X, y, test_size=0.5, random_state = 10)\n",
    "X_train.shape, y_train.shape"
   ]
  },
  {
   "cell_type": "code",
   "execution_count": 10,
   "metadata": {
    "ExecuteTime": {
     "end_time": "2020-08-02T15:28:11.859274Z",
     "start_time": "2020-08-02T15:25:25.148739Z"
    }
   },
   "outputs": [
    {
     "data": {
      "text/plain": [
       "Pipeline(memory=None,\n",
       "     steps=[('vectorizer', CountVectorizer(analyzer='word', binary=False, decode_error='strict',\n",
       "        dtype=<class 'numpy.int64'>, encoding='utf-8', input='content',\n",
       "        lowercase=True, max_df=1.0, max_features=None, min_df=1,\n",
       "        ngram_range=(1, 1), preprocessor=None, stop_words=None,\n",
       "       ...ction_leaf=0.0, presort=False, random_state=10,\n",
       "            splitter='best'),\n",
       "           n_jobs=1))])"
      ]
     },
     "execution_count": 10,
     "metadata": {},
     "output_type": "execute_result"
    }
   ],
   "source": [
    "pipeline.fit(X_train, y_train)"
   ]
  },
  {
   "cell_type": "markdown",
   "metadata": {},
   "source": [
    "### 测试模型\n",
    "报告数据集中每个输出类别的 f1 得分、准确度和召回率。你可以对列进行遍历，并对每个元素调用 sklearn 的 `classification_report`。"
   ]
  },
  {
   "cell_type": "code",
   "execution_count": 15,
   "metadata": {
    "ExecuteTime": {
     "end_time": "2020-08-02T15:35:29.116284Z",
     "start_time": "2020-08-02T15:35:17.092596Z"
    }
   },
   "outputs": [
    {
     "name": "stdout",
     "output_type": "stream",
     "text": [
      "             precision    recall  f1-score   support\n",
      "\n",
      "          0       0.91      0.92      0.91     10922\n",
      "          1       0.59      0.55      0.57      2271\n",
      "\n",
      "avg / total       0.85      0.86      0.86     13193\n",
      "\n",
      "             precision    recall  f1-score   support\n",
      "\n",
      "          0       0.99      1.00      1.00     13124\n",
      "          1       0.04      0.03      0.03        69\n",
      "\n",
      "avg / total       0.99      0.99      0.99     13193\n",
      "\n",
      "             precision    recall  f1-score   support\n",
      "\n",
      "          0       0.75      0.77      0.76      7691\n",
      "          1       0.66      0.64      0.65      5502\n",
      "\n",
      "avg / total       0.71      0.71      0.71     13193\n",
      "\n",
      "             precision    recall  f1-score   support\n",
      "\n",
      "          0       0.94      0.95      0.95     12152\n",
      "          1       0.37      0.34      0.35      1041\n",
      "\n",
      "avg / total       0.90      0.90      0.90     13193\n",
      "\n",
      "             precision    recall  f1-score   support\n",
      "\n",
      "          0       0.97      0.97      0.97     12501\n",
      "          1       0.40      0.37      0.38       692\n",
      "\n",
      "avg / total       0.94      0.94      0.94     13193\n",
      "\n",
      "             precision    recall  f1-score   support\n",
      "\n",
      "          0       0.98      0.98      0.98     12829\n",
      "          1       0.25      0.22      0.23       364\n",
      "\n",
      "avg / total       0.96      0.96      0.96     13193\n",
      "\n",
      "             precision    recall  f1-score   support\n",
      "\n",
      "          0       0.98      0.98      0.98     12965\n",
      "          1       0.08      0.08      0.08       228\n",
      "\n",
      "avg / total       0.97      0.97      0.97     13193\n",
      "\n",
      "             precision    recall  f1-score   support\n",
      "\n",
      "          0       0.98      0.98      0.98     12748\n",
      "          1       0.37      0.36      0.36       445\n",
      "\n",
      "avg / total       0.96      0.96      0.96     13193\n",
      "\n",
      "             precision    recall  f1-score   support\n",
      "\n",
      "          0       1.00      1.00      1.00     13193\n",
      "\n",
      "avg / total       1.00      1.00      1.00     13193\n",
      "\n",
      "             precision    recall  f1-score   support\n",
      "\n",
      "          0       0.98      0.98      0.98     12330\n",
      "          1       0.68      0.66      0.67       863\n",
      "\n",
      "avg / total       0.96      0.96      0.96     13193\n",
      "\n"
     ]
    }
   ],
   "source": [
    "from sklearn.metrics import f1_score\n",
    "from sklearn.metrics import accuracy_score, f1_score, precision_score, recall_score, classification_report, confusion_matrix\n",
    "\n",
    "y_pred = pipeline.predict(X_test)\n",
    "\n",
    "for i in range(10):\n",
    "    print(classification_report(y_test[:,i],y_pred[:,i]) )"
   ]
  },
  {
   "cell_type": "code",
   "execution_count": 16,
   "metadata": {
    "ExecuteTime": {
     "end_time": "2020-08-02T15:35:40.351927Z",
     "start_time": "2020-08-02T15:35:40.312924Z"
    }
   },
   "outputs": [
    {
     "name": "stdout",
     "output_type": "stream",
     "text": [
      "0.8580307738952475\n",
      "0.9915106495869022\n",
      "0.7112862881831274\n",
      "0.901690290305465\n",
      "0.9381490184188584\n",
      "0.9601303721670583\n",
      "0.9686197225801562\n",
      "0.9577806412491473\n",
      "1.0\n",
      "0.9570984613052377\n"
     ]
    }
   ],
   "source": [
    "from sklearn.metrics import f1_score\n",
    "from sklearn.metrics import accuracy_score, f1_score, precision_score, recall_score, classification_report, confusion_matrix\n",
    "\n",
    "for i in range(10):\n",
    "    print(accuracy_score(y_test[:,i],y_pred[:,i]) )"
   ]
  },
  {
   "cell_type": "markdown",
   "metadata": {},
   "source": [
    "### 优化模型\n",
    "使用网格搜索来找到最优的参数组合。 "
   ]
  },
  {
   "cell_type": "code",
   "execution_count": 23,
   "metadata": {
    "ExecuteTime": {
     "end_time": "2020-08-02T15:39:51.692302Z",
     "start_time": "2020-08-02T15:39:51.684302Z"
    }
   },
   "outputs": [],
   "source": [
    "from sklearn.model_selection import GridSearchCV\n",
    "\n",
    "parameters = {\n",
    "             'clf__estimator__min_samples_split':[3,4]\n",
    "             }\n",
    "\n",
    "cv = GridSearchCV(pipeline, parameters)"
   ]
  },
  {
   "cell_type": "code",
   "execution_count": 24,
   "metadata": {
    "ExecuteTime": {
     "end_time": "2020-08-02T15:51:57.399811Z",
     "start_time": "2020-08-02T15:39:54.058438Z"
    }
   },
   "outputs": [
    {
     "data": {
      "text/plain": [
       "GridSearchCV(cv=None, error_score='raise',\n",
       "       estimator=Pipeline(memory=None,\n",
       "     steps=[('vectorizer', CountVectorizer(analyzer='word', binary=False, decode_error='strict',\n",
       "        dtype=<class 'numpy.int64'>, encoding='utf-8', input='content',\n",
       "        lowercase=True, max_df=1.0, max_features=None, min_df=1,\n",
       "        ngram_range=(1, 1), preprocessor=None, stop_words=None,\n",
       "       ...ction_leaf=0.0, presort=False, random_state=10,\n",
       "            splitter='best'),\n",
       "           n_jobs=1))]),\n",
       "       fit_params=None, iid=True, n_jobs=1,\n",
       "       param_grid={'clf__estimator__min_samples_split': [3, 4]},\n",
       "       pre_dispatch='2*n_jobs', refit=True, return_train_score='warn',\n",
       "       scoring=None, verbose=0)"
      ]
     },
     "execution_count": 24,
     "metadata": {},
     "output_type": "execute_result"
    }
   ],
   "source": [
    "cv.fit(X_train, y_train)"
   ]
  },
  {
   "cell_type": "code",
   "execution_count": 25,
   "metadata": {
    "ExecuteTime": {
     "end_time": "2020-08-02T15:53:01.891499Z",
     "start_time": "2020-08-02T15:53:01.882499Z"
    }
   },
   "outputs": [
    {
     "data": {
      "text/plain": [
       "0.25642386113848253"
      ]
     },
     "execution_count": 25,
     "metadata": {},
     "output_type": "execute_result"
    }
   ],
   "source": [
    "cv.best_score_"
   ]
  },
  {
   "cell_type": "markdown",
   "metadata": {},
   "source": [
    "### 测试模型\n",
    "打印微调后的模型的精确度、准确率和召回率。  \n",
    "\n",
    "因为本项目主要关注代码质量、开发流程和管道技术，所有没有模型性能指标的最低要求。但是，微调模型提高精确度、准确率和召回率可以让你的项目脱颖而出——特别是让你的简历更出彩。"
   ]
  },
  {
   "cell_type": "code",
   "execution_count": 26,
   "metadata": {
    "ExecuteTime": {
     "end_time": "2020-08-02T15:53:26.082883Z",
     "start_time": "2020-08-02T15:53:13.858184Z"
    }
   },
   "outputs": [
    {
     "name": "stdout",
     "output_type": "stream",
     "text": [
      "             precision    recall  f1-score   support\n",
      "\n",
      "          0       0.91      0.92      0.91     10922\n",
      "          1       0.58      0.54      0.56      2271\n",
      "\n",
      "avg / total       0.85      0.85      0.85     13193\n",
      "\n",
      "             precision    recall  f1-score   support\n",
      "\n",
      "          0       0.99      1.00      1.00     13124\n",
      "          1       0.05      0.03      0.04        69\n",
      "\n",
      "avg / total       0.99      0.99      0.99     13193\n",
      "\n",
      "             precision    recall  f1-score   support\n",
      "\n",
      "          0       0.75      0.76      0.75      7691\n",
      "          1       0.66      0.64      0.65      5502\n",
      "\n",
      "avg / total       0.71      0.71      0.71     13193\n",
      "\n",
      "             precision    recall  f1-score   support\n",
      "\n",
      "          0       0.94      0.95      0.95     12152\n",
      "          1       0.36      0.34      0.35      1041\n",
      "\n",
      "avg / total       0.90      0.90      0.90     13193\n",
      "\n",
      "             precision    recall  f1-score   support\n",
      "\n",
      "          0       0.97      0.97      0.97     12501\n",
      "          1       0.43      0.37      0.40       692\n",
      "\n",
      "avg / total       0.94      0.94      0.94     13193\n",
      "\n",
      "             precision    recall  f1-score   support\n",
      "\n",
      "          0       0.98      0.98      0.98     12829\n",
      "          1       0.26      0.22      0.23       364\n",
      "\n",
      "avg / total       0.96      0.96      0.96     13193\n",
      "\n",
      "             precision    recall  f1-score   support\n",
      "\n",
      "          0       0.98      0.99      0.99     12965\n",
      "          1       0.10      0.08      0.09       228\n",
      "\n",
      "avg / total       0.97      0.97      0.97     13193\n",
      "\n",
      "             precision    recall  f1-score   support\n",
      "\n",
      "          0       0.98      0.98      0.98     12748\n",
      "          1       0.36      0.34      0.35       445\n",
      "\n",
      "avg / total       0.96      0.96      0.96     13193\n",
      "\n",
      "             precision    recall  f1-score   support\n",
      "\n",
      "          0       1.00      1.00      1.00     13193\n",
      "\n",
      "avg / total       1.00      1.00      1.00     13193\n",
      "\n",
      "             precision    recall  f1-score   support\n",
      "\n",
      "          0       0.98      0.98      0.98     12330\n",
      "          1       0.68      0.65      0.66       863\n",
      "\n",
      "avg / total       0.96      0.96      0.96     13193\n",
      "\n",
      "0.853861896460244\n",
      "0.9921170317592662\n",
      "0.7096945349806716\n",
      "0.9009323125900098\n",
      "0.9408019404229515\n",
      "0.960964147654059\n",
      "0.9715000378988857\n",
      "0.9572500568483286\n",
      "1.0\n",
      "0.9570226635336921\n"
     ]
    }
   ],
   "source": [
    "y_pred = cv.predict(X_test)\n",
    "\n",
    "for i in range(10):\n",
    "    print(classification_report(y_test[:,i],y_pred[:,i]) )\n",
    "for i in range(10):\n",
    "    print(accuracy_score(y_test[:,i],y_pred[:,i]) )"
   ]
  },
  {
   "cell_type": "markdown",
   "metadata": {},
   "source": [
    "### 继续优化模型，比如：\n",
    "* 尝试其他的机器学习算法\n",
    "* 尝试除 TF-IDF 外其他的特征"
   ]
  },
  {
   "cell_type": "code",
   "execution_count": 34,
   "metadata": {
    "ExecuteTime": {
     "end_time": "2020-08-02T16:02:26.349784Z",
     "start_time": "2020-08-02T16:02:18.447332Z"
    }
   },
   "outputs": [
    {
     "data": {
      "text/plain": [
       "Pipeline(memory=None,\n",
       "     steps=[('vectorizer', CountVectorizer(analyzer='word', binary=False, decode_error='strict',\n",
       "        dtype=<class 'numpy.int64'>, encoding='utf-8', input='content',\n",
       "        lowercase=True, max_df=1.0, max_features=None, min_df=1,\n",
       "        ngram_range=(1, 1), preprocessor=None, stop_words=None,\n",
       "       ...ob_score=False, random_state=None, verbose=0,\n",
       "            warm_start=False),\n",
       "           n_jobs=-1))])"
      ]
     },
     "execution_count": 34,
     "metadata": {},
     "output_type": "execute_result"
    }
   ],
   "source": [
    "from sklearn import multioutput\n",
    "from sklearn.multioutput import MultiOutputClassifier\n",
    "\n",
    "pipeline2 = Pipeline([\n",
    "        ('vectorizer', CountVectorizer(tokenizer=tokenize)),\n",
    "        ('transformer', TfidfTransformer()),\n",
    "        ('clf', multioutput.MultiOutputClassifier(RandomForestClassifier(),n_jobs=-1))\n",
    "      ])\n",
    "\n",
    "pipeline2.fit(X_train, y_train)"
   ]
  },
  {
   "cell_type": "code",
   "execution_count": 35,
   "metadata": {
    "ExecuteTime": {
     "end_time": "2020-08-02T16:03:06.885103Z",
     "start_time": "2020-08-02T16:02:59.762696Z"
    }
   },
   "outputs": [
    {
     "name": "stdout",
     "output_type": "stream",
     "text": [
      "             precision    recall  f1-score   support\n",
      "\n",
      "          0       0.83      0.99      0.90     10922\n",
      "          1       0.38      0.02      0.04      2271\n",
      "\n",
      "avg / total       0.75      0.83      0.76     13193\n",
      "\n",
      "             precision    recall  f1-score   support\n",
      "\n",
      "          0       0.99      1.00      1.00     13124\n",
      "          1       0.00      0.00      0.00        69\n",
      "\n",
      "avg / total       0.99      0.99      0.99     13193\n",
      "\n",
      "             precision    recall  f1-score   support\n",
      "\n",
      "          0       0.61      0.91      0.73      7691\n",
      "          1       0.58      0.17      0.26      5502\n",
      "\n",
      "avg / total       0.59      0.60      0.53     13193\n",
      "\n",
      "             precision    recall  f1-score   support\n",
      "\n",
      "          0       0.92      1.00      0.96     12152\n",
      "          1       0.12      0.01      0.01      1041\n",
      "\n",
      "avg / total       0.86      0.92      0.88     13193\n",
      "\n",
      "             precision    recall  f1-score   support\n",
      "\n",
      "          0       0.95      1.00      0.97     12501\n",
      "          1       0.18      0.01      0.01       692\n",
      "\n",
      "avg / total       0.91      0.95      0.92     13193\n",
      "\n",
      "             precision    recall  f1-score   support\n",
      "\n",
      "          0       0.97      1.00      0.99     12829\n",
      "          1       0.00      0.00      0.00       364\n",
      "\n",
      "avg / total       0.95      0.97      0.96     13193\n",
      "\n",
      "             precision    recall  f1-score   support\n",
      "\n",
      "          0       0.98      1.00      0.99     12965\n",
      "          1       0.00      0.00      0.00       228\n",
      "\n",
      "avg / total       0.97      0.98      0.97     13193\n",
      "\n",
      "             precision    recall  f1-score   support\n",
      "\n",
      "          0       0.97      1.00      0.98     12748\n",
      "          1       0.10      0.01      0.01       445\n",
      "\n",
      "avg / total       0.94      0.96      0.95     13193\n",
      "\n",
      "             precision    recall  f1-score   support\n",
      "\n",
      "          0       1.00      1.00      1.00     13193\n",
      "\n",
      "avg / total       1.00      1.00      1.00     13193\n",
      "\n",
      "             precision    recall  f1-score   support\n",
      "\n",
      "          0       0.94      1.00      0.96     12330\n",
      "          1       0.25      0.02      0.03       863\n",
      "\n",
      "avg / total       0.89      0.93      0.90     13193\n",
      "\n",
      "0.8255135299022208\n",
      "0.9947699537633593\n",
      "0.6013795194421284\n",
      "0.917380429015387\n",
      "0.9464867732888653\n",
      "0.9718790267566133\n",
      "0.9818843326006216\n",
      "0.9644508451451528\n",
      "1.0\n",
      "0.9323125900098537\n"
     ]
    },
    {
     "name": "stderr",
     "output_type": "stream",
     "text": [
      "C:\\ProgramData\\Anaconda3\\envs\\dlnd-tf-lab\\lib\\site-packages\\sklearn\\metrics\\classification.py:1135: UndefinedMetricWarning: Precision and F-score are ill-defined and being set to 0.0 in labels with no predicted samples.\n",
      "  'precision', 'predicted', average, warn_for)\n"
     ]
    }
   ],
   "source": [
    "y_pred2 = pipeline2.predict(X_test)\n",
    "\n",
    "for i in range(10):\n",
    "    print(classification_report(y_test[:,i], y_pred2[:,i]))\n",
    "for i in range(10):\n",
    "    print(accuracy_score(y_test[:,i],y_pred2[:,i]))"
   ]
  },
  {
   "cell_type": "markdown",
   "metadata": {},
   "source": [
    "### 导出模型为 pickle file"
   ]
  },
  {
   "cell_type": "code",
   "execution_count": 42,
   "metadata": {
    "ExecuteTime": {
     "end_time": "2020-08-02T16:20:50.310927Z",
     "start_time": "2020-08-02T16:20:50.096915Z"
    }
   },
   "outputs": [],
   "source": [
    "import pickle \n",
    "\n",
    "#保存成Python支持的文件格式Pickle\n",
    "#在当前目录下可以看到pickle\n",
    "with open('pipeline.pkl','wb') as fw:\n",
    "    pickle.dump(pipeline2,fw)\n",
    "#加载\n",
    "with open('pipeline.pkl','rb') as fr:\n",
    "    new_pipeline2 = pickle.load(fr)"
   ]
  },
  {
   "cell_type": "markdown",
   "metadata": {},
   "source": [
    "### Use this notebook to complete `train.py`\n",
    "使用资源 (Resources)文件里附带的模板文件编写脚本，运行上述步骤，创建一个数据库，并基于用户指定的新数据集输出一个模型。"
   ]
  },
  {
   "cell_type": "code",
   "execution_count": null,
   "metadata": {},
   "outputs": [],
   "source": []
  }
 ],
 "metadata": {
  "kernelspec": {
   "display_name": "Python 3",
   "language": "python",
   "name": "python3"
  },
  "language_info": {
   "codemirror_mode": {
    "name": "ipython",
    "version": 3
   },
   "file_extension": ".py",
   "mimetype": "text/x-python",
   "name": "python",
   "nbconvert_exporter": "python",
   "pygments_lexer": "ipython3",
   "version": "3.5.5"
  },
  "toc": {
   "base_numbering": 1,
   "nav_menu": {},
   "number_sections": true,
   "sideBar": true,
   "skip_h1_title": false,
   "title_cell": "Table of Contents",
   "title_sidebar": "Contents",
   "toc_cell": false,
   "toc_position": {},
   "toc_section_display": true,
   "toc_window_display": false
  },
  "varInspector": {
   "cols": {
    "lenName": 16,
    "lenType": 16,
    "lenVar": 40
   },
   "kernels_config": {
    "python": {
     "delete_cmd_postfix": "",
     "delete_cmd_prefix": "del ",
     "library": "var_list.py",
     "varRefreshCmd": "print(var_dic_list())"
    },
    "r": {
     "delete_cmd_postfix": ") ",
     "delete_cmd_prefix": "rm(",
     "library": "var_list.r",
     "varRefreshCmd": "cat(var_dic_list()) "
    }
   },
   "types_to_exclude": [
    "module",
    "function",
    "builtin_function_or_method",
    "instance",
    "_Feature"
   ],
   "window_display": false
  }
 },
 "nbformat": 4,
 "nbformat_minor": 2
}
